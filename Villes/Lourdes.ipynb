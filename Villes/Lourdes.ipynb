{
  "cells": [
    {
      "cell_type": "raw",
      "metadata": {},
      "source": [
        "---\n",
        "title: \"Lourdes\"\n",
        "execute:\n",
        "  echo: false\n",
        "format:\n",
        "  html:\n",
        "    theme: cosmo\n",
        "    toc: true\n",
        "    grid:\n",
        "      margin-width: 150px\n",
        "    fontcolor: pink\n",
        "    backgroundcolor: pink\n",
        "---"
      ],
      "id": "be6448a7"
    },
    {
      "cell_type": "markdown",
      "metadata": {},
      "source": [
        "![*Lourdes*](lourdes.svg){width=600}\n",
        "\n",
        "* **Nombres d'habitants** : 13 946\n",
        "* **Densité** : 348,6 (*nombre d'habitants au $km^2$*)\n",
        "* **Département** : Haute-Pyrénées (65)\n",
        "\n",
        "Données récentes sur la pollition NOX à Lourdes"
      ],
      "id": "f522ca23"
    },
    {
      "cell_type": "code",
      "metadata": {},
      "source": [
        "from functions import visuals as viz\n",
        "from functions import dataprep as dp\n",
        "\n",
        "# Show NOX Pollution Values of the last 30 days\n",
        "df_j=dp.data_prep(time='tj')\n",
        "viz.visualize_df(df=df_j, city='LOURDES', nom_poll=\"NOX\")"
      ],
      "id": "47ee749c",
      "execution_count": null,
      "outputs": []
    },
    {
      "cell_type": "markdown",
      "metadata": {},
      "source": [
        "Données mensuelles sur la pollition NOX à Lourdes"
      ],
      "id": "8693721c"
    },
    {
      "cell_type": "code",
      "metadata": {},
      "source": [
        "# Show NOX Pollution Values of the last months\n",
        "df_m=dp.data_prep(time='m')\n",
        "viz.visualize_df(df=df_m, city='LOURDES', nom_poll=\"NOX\")"
      ],
      "id": "02779b4b",
      "execution_count": null,
      "outputs": []
    }
  ],
  "metadata": {
    "kernelspec": {
      "name": "python3",
      "language": "python",
      "display_name": "Python 3 (ipykernel)"
    }
  },
  "nbformat": 4,
  "nbformat_minor": 5
}