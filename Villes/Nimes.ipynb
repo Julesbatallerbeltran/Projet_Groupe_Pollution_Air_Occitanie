{
  "cells": [
    {
      "cell_type": "raw",
      "metadata": {},
      "source": [
        "---\n",
        "title: \"Nîmes\"\n",
        "execute:\n",
        "  echo: false\n",
        "format:\n",
        "  html:\n",
        "    theme: cosmo\n",
        "    toc: true\n",
        "    grid:\n",
        "      margin-width: 150px\n",
        "    fontcolor: pink\n",
        "    backgroundcolor: pink\n",
        "---"
      ],
      "id": "5b114565"
    },
    {
      "cell_type": "markdown",
      "metadata": {},
      "source": [
        "![](nimes.svg){width=600px}\n",
        "\n",
        "* **Nombres d'habitants** : \n",
        "* **Densité** :  (*nombre d'habitants au $km^2$*)\n",
        "* **Département** : Gard (30)\n",
        "\n",
        "Données récentes sur la pollition NOX à Nîmes"
      ],
      "id": "649ea4c7"
    },
    {
      "cell_type": "code",
      "metadata": {},
      "source": [
        "from functions import visuals as viz\n",
        "from functions import dataprep as dp\n",
        "\n",
        "# Show NOX Pollution Values of the last 30 days\n",
        "df_j=dp.data_prep(time='tj')\n",
        "viz.visualize_df(df=df_j, city='NIMES', nom_poll=\"NOX\")"
      ],
      "id": "20db8ee5",
      "execution_count": null,
      "outputs": []
    },
    {
      "cell_type": "markdown",
      "metadata": {},
      "source": [
        "Données mensuelles sur la pollition NOX à Nîmes"
      ],
      "id": "55539ee9"
    },
    {
      "cell_type": "code",
      "metadata": {},
      "source": [
        "# Show NOX Pollution Values of the last months\n",
        "df_m=dp.data_prep(time='m')\n",
        "viz.visualize_df(df=df_m, city='NIMES', nom_poll=\"NOX\")"
      ],
      "id": "db3bb47e",
      "execution_count": null,
      "outputs": []
    }
  ],
  "metadata": {
    "kernelspec": {
      "name": "python3",
      "language": "python",
      "display_name": "Python 3 (ipykernel)"
    }
  },
  "nbformat": 4,
  "nbformat_minor": 5
}