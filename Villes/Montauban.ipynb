{
  "cells": [
    {
      "cell_type": "raw",
      "metadata": {},
      "source": [
        "---\n",
        "title: \"Montauban\"\n",
        "execute:\n",
        "  echo: false\n",
        "format:\n",
        "  html:\n",
        "    theme: cosmo\n",
        "    toc: true\n",
        "    grid:\n",
        "      margin-width: 150px\n",
        "    fontcolor: pink\n",
        "    backgroundcolor: pink\n",
        "---"
      ],
      "id": "e67bbcaa"
    },
    {
      "cell_type": "markdown",
      "metadata": {},
      "source": [
        "![*Montauban*](Montauban.svg){width=600}\n",
        "\n",
        "* **Nombres d'habitants** : 59 982 \n",
        "* **Densité** : 456,3 (*nombre d'habitants au $km^2$*)\n",
        "* **Département** : Tarn-et-Garonne (82)\n"
      ],
      "id": "9a227260"
    },
    {
      "cell_type": "code",
      "metadata": {},
      "source": [
        "import pandas as pd\n",
        "import plotly.express as px\n",
        "\n",
        "# Charger le fichier CSV dans un DataFrame\n",
        "df = pd.read_csv('Mesure_annuelle_Region_Occitanie_Polluants_Principaux.csv')\n",
        "\n",
        "# Filtrer les données pour la ville de Montauban\n",
        "montauban_data = df[df['nom_com'] == 'MONTAUBAN'].copy()\n",
        "\n",
        "# Convertir la colonne 'date_debut' en format datetime\n",
        "montauban_data['date_debut'] = pd.to_datetime(montauban_data['date_debut'])\n",
        "\n",
        "# Trier les données par date\n",
        "montauban_data = montauban_data.sort_values(by='date_debut')\n",
        "\n",
        "# Créer un graphique de barres empilées animé avec Plotly Express\n",
        "fig = px.bar(montauban_data, x='date_debut', y='valeur', color='nom_poll',\n",
        "             labels={'valeur': f'Concentration de pollution (ug.m-3)'},\n",
        "             title='Évolution des concentrations de pollution à Montauban par année',\n",
        "             barmode='stack',\n",
        "             animation_frame='nom_poll')\n",
        "\n",
        "# Personnaliser le graphique\n",
        "fig.update_layout(xaxis=dict(title='Année'), yaxis=dict(title='Concentration de pollution (ug.m-3)', dtick=10, range=[0, 60]))\n",
        "\n",
        "# Ajuster la vitesse de l'animation\n",
        "fig.update_layout(updatemenus=[dict(type='buttons', showactive=False,\n",
        "                                      buttons=[dict(label='Play',\n",
        "                                                    method='animate',\n",
        "                                                    args=[None, dict(frame=dict(duration=1000, redraw=True), fromcurrent=True)])])])\n",
        "\n",
        "# Afficher le graphique interactif\n",
        "fig.show()\n"
      ],
      "id": "aaef2a44",
      "execution_count": null,
      "outputs": []
    }
  ],
  "metadata": {
    "kernelspec": {
      "name": "python3",
      "language": "python",
      "display_name": "Python 3 (ipykernel)"
    }
  },
  "nbformat": 4,
  "nbformat_minor": 5
}