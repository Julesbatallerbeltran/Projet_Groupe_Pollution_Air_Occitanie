{
  "cells": [
    {
      "cell_type": "raw",
      "metadata": {},
      "source": [
        "---\n",
        "title: \"Lattes\"\n",
        "execute:\n",
        "  echo: false\n",
        "format:\n",
        "  html:\n",
        "    theme: cosmo\n",
        "    toc: true\n",
        "    grid:\n",
        "      margin-width: 150px\n",
        "    fontcolor: pink\n",
        "    backgroundcolor: pink\n",
        "---"
      ],
      "id": "0e432685"
    },
    {
      "cell_type": "markdown",
      "metadata": {},
      "source": [
        "![](lattes.svg){width=600px}\n",
        "\n",
        "* **Nombres d'habitants** : 16 298 \n",
        "* **Densité** : 635,2 (*nombre d'habitants au $km^2$*)\n",
        "* **Département** : Hérault (34) \n",
        "\n",
        "Données récentes sur la pollition NOX à Lattes"
      ],
      "id": "6a6bb081"
    },
    {
      "cell_type": "code",
      "metadata": {},
      "source": [
        "from functions import visuals as viz\n",
        "from functions import dataprep as dp\n",
        "\n",
        "# Show NOX Pollution Values of the last 30 days\n",
        "df_j=dp.data_prep(time='tj')\n",
        "viz.visualize_df(df=df_j, city='LATTES', nom_poll=\"NOX\")"
      ],
      "id": "4465a04b",
      "execution_count": null,
      "outputs": []
    },
    {
      "cell_type": "markdown",
      "metadata": {},
      "source": [
        "Données mensuelles sur la pollition NOX à Lattes"
      ],
      "id": "e5921ad4"
    },
    {
      "cell_type": "code",
      "metadata": {},
      "source": [
        "# Show NOX Pollution Values of the last months\n",
        "df_m=dp.data_prep(time='m')\n",
        "viz.visualize_df(df=df_m, city='LATTES', nom_poll=\"NOX\")"
      ],
      "id": "f86b93dd",
      "execution_count": null,
      "outputs": []
    }
  ],
  "metadata": {
    "kernelspec": {
      "name": "python3",
      "language": "python",
      "display_name": "Python 3 (ipykernel)"
    }
  },
  "nbformat": 4,
  "nbformat_minor": 5
}