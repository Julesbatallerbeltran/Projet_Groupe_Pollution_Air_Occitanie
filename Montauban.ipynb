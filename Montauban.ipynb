{
  "cells": [
    {
      "cell_type": "raw",
      "metadata": {},
      "source": [
        "---\n",
        "title: \"Montauban\"\n",
        "execute:\n",
        "  echo: false\n",
        "format:\n",
        "  html:\n",
        "    theme: cosmo\n",
        "    toc: true\n",
        "    grid:\n",
        "      margin-width: 150px\n",
        "    fontcolor: pink\n",
        "    backgroundcolor: pink\n",
        "---"
      ],
      "id": "b9b36837"
    },
    {
      "cell_type": "markdown",
      "metadata": {},
      "source": [
        "![*Montauban*](Montauban.svg){width=600}\n",
        "\n",
        "* **Nombres d'habitants** : 59 982\n",
        "* **Densité** : 456,3 (*nombre d'habitants au $km^2$*)\n",
        "* **Département** : Tarn-et-Garonne (82)\n",
        "\n",
        "# test{background-color=\"black\" background-image=\"https://placekitten.com/100/100\" background-size=\"100px\" background-repeat=\"repeat\"}\n",
        "\n",
        "\n",
        "Données récentes sur la pollition NOX à Montauban"
      ],
      "id": "325d36d9"
    },
    {
      "cell_type": "code",
      "metadata": {},
      "source": [
        "from functions import visuals as viz\n",
        "from functions import dataprep as dp\n",
        "\n",
        "# Show NOX Pollution Values of the last 30 days\n",
        "df_j=dp.data_prep(time='tj')\n",
        "viz.visualize_df(df=df_j, city='MONTAUBAN', nom_poll=\"NOX\")"
      ],
      "id": "b910e8b2",
      "execution_count": null,
      "outputs": []
    },
    {
      "cell_type": "markdown",
      "metadata": {},
      "source": [
        "Données mensuelles sur la pollition NOX à Montauban"
      ],
      "id": "ed1deb49"
    },
    {
      "cell_type": "code",
      "metadata": {},
      "source": [
        "# Show NOX Pollution Values of the last months\n",
        "df_m=dp.data_prep(time='m')\n",
        "viz.visualize_df(df=df_m, city='MONTAUBAN', nom_poll=\"NOX\")"
      ],
      "id": "c8840cb1",
      "execution_count": null,
      "outputs": []
    }
  ],
  "metadata": {
    "kernelspec": {
      "name": "python3",
      "language": "python",
      "display_name": "Python 3 (ipykernel)"
    }
  },
  "nbformat": 4,
  "nbformat_minor": 5
}