{
 "cells": [
  {
   "cell_type": "code",
   "execution_count": 1,
   "metadata": {},
   "outputs": [],
   "source": [
    "%load_ext autoreload\n",
    "%autoreload 2"
   ]
  },
  {
   "cell_type": "code",
   "execution_count": 2,
   "metadata": {},
   "outputs": [],
   "source": [
    "import requests\n",
    "import numpy as np\n",
    "import pandas as pd\n",
    "from datetime import datetime as dt\n",
    "\n",
    "import dataprep as dp\n",
    "import visuals as viz"
   ]
  },
  {
   "cell_type": "code",
   "execution_count": 3,
   "metadata": {},
   "outputs": [],
   "source": [
    "tj = \"https://services9.arcgis.com/7Sr9Ek9c1QTKmbwr/arcgis/rest/services/Mesure_horaire_(30j)_Region_Occitanie_Polluants_Reglementaires_1/FeatureServer/0/query?where=1%3D1&outFields=*&outSR=4326&f=json\"\n",
    "mensuelle = \"https://services9.arcgis.com/7Sr9Ek9c1QTKmbwr/arcgis/rest/services/mesures_occitanie_mensuelle_poll_princ/FeatureServer/0/query?where=1%3D1&outFields=*&outSR=4326&f=json\"\n",
    "response = requests.get(mensuelle)\n",
    "m = response.json()"
   ]
  },
  {
   "cell_type": "code",
   "execution_count": 4,
   "metadata": {},
   "outputs": [],
   "source": [
    "tj = \"https://services9.arcgis.com/7Sr9Ek9c1QTKmbwr/arcgis/rest/services/Mesure_horaire_(30j)_Region_Occitanie_Polluants_Reglementaires_1/FeatureServer/0/query?where=1%3D1&outFields=*&outSR=4326&f=json\"\n",
    "response = requests.get(tj)\n",
    "j = response.json()"
   ]
  },
  {
   "cell_type": "code",
   "execution_count": 5,
   "metadata": {},
   "outputs": [
    {
     "data": {
      "text/plain": [
       "dict_keys(['objectIdFieldName', 'uniqueIdField', 'globalIdFieldName', 'geometryType', 'spatialReference', 'fields', 'exceededTransferLimit', 'features'])"
      ]
     },
     "execution_count": 5,
     "metadata": {},
     "output_type": "execute_result"
    }
   ],
   "source": [
    "j.keys()"
   ]
  },
  {
   "cell_type": "code",
   "execution_count": null,
   "metadata": {},
   "outputs": [],
   "source": []
  },
  {
   "cell_type": "code",
   "execution_count": 6,
   "metadata": {},
   "outputs": [
    {
     "name": "stdout",
     "output_type": "stream",
     "text": [
      "AGDE 79\n",
      "ALBI 4\n",
      "ALES 12\n",
      "ARGELES-GAZOST 3\n",
      "AUCH 105\n",
      "BELESTA-EN-LAURAGAIS 7\n",
      "BEZIERS 52\n",
      "BLAGNAC 9\n",
      "CASTRES 27\n",
      "CORNEILHAN 22\n",
      "GAUDONVILLE 27\n",
      "LA CALMETTE 23\n",
      "LATTES 19\n",
      "LOURDES 28\n",
      "LUNEL-VIEL 6\n",
      "MIRAMONT-DE-COMMINGES 5\n",
      "MONTAUBAN 14\n",
      "MONTGISCARD 11\n",
      "MONTPELLIER 278\n",
      "NIMES 16\n",
      "PERPIGNAN 93\n",
      "PEYRUSSE-VIEILLE 13\n",
      "RODEZ 21\n",
      "SAINT-GAUDENS 3\n",
      "SAINT-GELY-DU-FESC 14\n",
      "SAINT-GIRONS 3\n",
      "SAZE 13\n",
      "TARBES 18\n",
      "TOULOUSE 75\n"
     ]
    }
   ],
   "source": [
    "noms=[]\n",
    "for element in j[\"features\"]:\n",
    "    noms+=[element.get('attributes').get('nom_com')]\n",
    "u_noms=np.unique(noms)\n",
    "for u in u_noms:\n",
    "    print(f\"{u} {noms.count(u)}\" )"
   ]
  },
  {
   "cell_type": "code",
   "execution_count": 7,
   "metadata": {},
   "outputs": [
    {
     "data": {
      "text/plain": [
       "{'attributes': {'nom_dept': 'TARN-ET-GARONNE',\n",
       "  'nom_com': 'MONTAUBAN',\n",
       "  'insee_com': 82121,\n",
       "  'nom_station': 'Montauban - Ramierou Urbain',\n",
       "  'code_station': 'FR50060',\n",
       "  'typologie': 'Urbaine',\n",
       "  'influence': 'Fond',\n",
       "  'nom_poll': 'NOX',\n",
       "  'id_poll_ue': 9,\n",
       "  'valeur': 6.7,\n",
       "  'unite': 'ug.m-3',\n",
       "  'metrique': 'horaire',\n",
       "  'date_debut': 1700913600000,\n",
       "  'date_fin': 1700917200000,\n",
       "  'statut_valid': 't',\n",
       "  'x_l93': 569728,\n",
       "  'y_l93': 6325102,\n",
       "  'ObjectId': 3},\n",
       " 'geometry': {'x': 1.3753099999999996, 'y': 44.01289999999996}}"
      ]
     },
     "execution_count": 7,
     "metadata": {},
     "output_type": "execute_result"
    }
   ],
   "source": [
    "j[\"features\"][2]"
   ]
  },
  {
   "cell_type": "code",
   "execution_count": 8,
   "metadata": {},
   "outputs": [
    {
     "data": {
      "text/plain": [
       "{'attributes': {'nom_dept': 'PYRENEES-ORIENTALES',\n",
       "  'nom_com': 'PERPIGNAN',\n",
       "  'insee_com': 66136,\n",
       "  'nom_station': 'Perpignan-Pyrenees Trafic',\n",
       "  'code_station': 'FR50224',\n",
       "  'typologie': 'Urbaine',\n",
       "  'influence': 'Trafic',\n",
       "  'nom_poll': 'NOX',\n",
       "  'id_poll_ue': 9,\n",
       "  'valeur': 58.5,\n",
       "  'unite': 'ug.m-3',\n",
       "  'metrique': 'horaire',\n",
       "  'date_debut': 1699819200000,\n",
       "  'date_fin': 1699822800000,\n",
       "  'statut_valid': 't',\n",
       "  'x_l93': 690848,\n",
       "  'y_l93': 6177376,\n",
       "  'ObjectId': 10},\n",
       " 'geometry': {'x': 2.8884499999999997, 'y': 42.695899999999995}}"
      ]
     },
     "execution_count": 8,
     "metadata": {},
     "output_type": "execute_result"
    }
   ],
   "source": [
    "j[\"features\"][9]"
   ]
  },
  {
   "cell_type": "code",
   "execution_count": 9,
   "metadata": {},
   "outputs": [],
   "source": [
    "cities=[]\n",
    "starts=[]\n",
    "ends=[]\n",
    "val=[]\n",
    "poll_ue=[]\n",
    "for element in j[\"features\"]:\n",
    "    cities+=[element.get('attributes').get('nom_com')]\n",
    "    starts+=[element.get('attributes').get('date_debut')]\n",
    "    ends+=[element.get('attributes').get('date_fin')]\n",
    "    val+=[element.get('attributes').get('valeur')]\n",
    "    poll_ue+=[element.get('attributes').get('id_poll_ue')]\n",
    "cities_u=np.unique(cities)\n",
    "\n",
    "df_data = pd.DataFrame()\n",
    "df_data['city']=cities\n",
    "df_data['start']=starts\n",
    "df_data['end']=ends\n",
    "df_data['values']=val\n",
    "df_data['poll_ue']=poll_ue\n",
    "    "
   ]
  },
  {
   "cell_type": "code",
   "execution_count": 10,
   "metadata": {},
   "outputs": [],
   "source": [
    "\n",
    "df = pd.DataFrame(index=cities_u)\n"
   ]
  },
  {
   "cell_type": "code",
   "execution_count": 11,
   "metadata": {},
   "outputs": [
    {
     "data": {
      "text/plain": [
       "0     2023-11-25 10:00:00\n",
       "1     2023-11-25 12:00:00\n",
       "2     2023-11-25 13:00:00\n",
       "3     2023-11-25 14:00:00\n",
       "4     2023-11-25 15:00:00\n",
       "              ...        \n",
       "995   2023-11-13 12:00:00\n",
       "996   2023-11-15 11:00:00\n",
       "997   2023-11-16 19:00:00\n",
       "998   2023-11-19 07:00:00\n",
       "999   2023-11-21 13:00:00\n",
       "Name: start, Length: 1000, dtype: datetime64[ns]"
      ]
     },
     "execution_count": 11,
     "metadata": {},
     "output_type": "execute_result"
    }
   ],
   "source": [
    "df_data['start'].apply(lambda x: dt.fromtimestamp(x/1e3))\n"
   ]
  },
  {
   "cell_type": "code",
   "execution_count": 12,
   "metadata": {},
   "outputs": [
    {
     "data": {
      "text/plain": [
       "datetime.datetime(2023, 11, 13, 12, 0)"
      ]
     },
     "execution_count": 12,
     "metadata": {},
     "output_type": "execute_result"
    }
   ],
   "source": [
    "dt.fromtimestamp(1699873200000/1e3)"
   ]
  },
  {
   "cell_type": "code",
   "execution_count": 24,
   "metadata": {},
   "outputs": [],
   "source": [
    "df = dp.extract_data_to_df(data=m)\n"
   ]
  },
  {
   "cell_type": "code",
   "execution_count": 25,
   "metadata": {},
   "outputs": [
    {
     "data": {
      "text/plain": [
       "array(['TOULOUSE', 'BESSIERES', 'ALES', 'ALBI', 'TARBES',\n",
       "       'PEYRUSSE-VIEILLE', 'AGDE', 'SAINT-GIRONS', 'LOURDES',\n",
       "       'LUNEL-VIEL', 'RODEZ', 'BLAGNAC', 'MONTAUBAN', 'CASTRES',\n",
       "       'MONTPELLIER', 'LATTES', 'NIMES', 'PERPIGNAN',\n",
       "       'SAINT-GELY-DU-FESC', 'SAZE', 'BEZIERS', 'BELESTA-EN-LAURAGAIS',\n",
       "       'MIRAMONT-DE-COMMINGES', 'MONTGISCARD', 'ARGELES-GAZOST', 'AUCH',\n",
       "       'SAINT-ESTEVE', 'LA CALMETTE'], dtype=object)"
      ]
     },
     "execution_count": 25,
     "metadata": {},
     "output_type": "execute_result"
    }
   ],
   "source": [
    "df.city.unique()"
   ]
  },
  {
   "cell_type": "code",
   "execution_count": 26,
   "metadata": {},
   "outputs": [
    {
     "data": {
      "text/html": [
       "<div>\n",
       "<style scoped>\n",
       "    .dataframe tbody tr th:only-of-type {\n",
       "        vertical-align: middle;\n",
       "    }\n",
       "\n",
       "    .dataframe tbody tr th {\n",
       "        vertical-align: top;\n",
       "    }\n",
       "\n",
       "    .dataframe thead th {\n",
       "        text-align: right;\n",
       "    }\n",
       "</style>\n",
       "<table border=\"1\" class=\"dataframe\">\n",
       "  <thead>\n",
       "    <tr style=\"text-align: right;\">\n",
       "      <th></th>\n",
       "      <th>city</th>\n",
       "      <th>start</th>\n",
       "      <th>end</th>\n",
       "      <th>values</th>\n",
       "      <th>poll_ue</th>\n",
       "      <th>nom_poll</th>\n",
       "      <th>influence</th>\n",
       "      <th>typology</th>\n",
       "    </tr>\n",
       "  </thead>\n",
       "  <tbody>\n",
       "    <tr>\n",
       "      <th>932</th>\n",
       "      <td>MONTPELLIER</td>\n",
       "      <td>2022-08-01 02:00:00</td>\n",
       "      <td>2022-09-01 01:59:00</td>\n",
       "      <td>7.3</td>\n",
       "      <td>6001</td>\n",
       "      <td>PM2.5</td>\n",
       "      <td>Fond</td>\n",
       "      <td>Urbaine</td>\n",
       "    </tr>\n",
       "    <tr>\n",
       "      <th>579</th>\n",
       "      <td>MONTPELLIER</td>\n",
       "      <td>2022-08-01 02:00:00</td>\n",
       "      <td>2022-09-01 01:59:00</td>\n",
       "      <td>NaN</td>\n",
       "      <td>9</td>\n",
       "      <td>NOX</td>\n",
       "      <td>Trafic</td>\n",
       "      <td>Urbaine</td>\n",
       "    </tr>\n",
       "    <tr>\n",
       "      <th>245</th>\n",
       "      <td>MONTPELLIER</td>\n",
       "      <td>2022-08-01 02:00:00</td>\n",
       "      <td>2022-09-01 01:59:00</td>\n",
       "      <td>17.2</td>\n",
       "      <td>5</td>\n",
       "      <td>PM10</td>\n",
       "      <td>Trafic</td>\n",
       "      <td>Urbaine</td>\n",
       "    </tr>\n",
       "    <tr>\n",
       "      <th>580</th>\n",
       "      <td>MONTPELLIER</td>\n",
       "      <td>2022-09-01 02:00:00</td>\n",
       "      <td>2022-10-01 01:59:00</td>\n",
       "      <td>NaN</td>\n",
       "      <td>9</td>\n",
       "      <td>NOX</td>\n",
       "      <td>Trafic</td>\n",
       "      <td>Urbaine</td>\n",
       "    </tr>\n",
       "    <tr>\n",
       "      <th>706</th>\n",
       "      <td>MONTPELLIER</td>\n",
       "      <td>2022-09-01 02:00:00</td>\n",
       "      <td>2022-10-01 01:59:00</td>\n",
       "      <td>2.2</td>\n",
       "      <td>38</td>\n",
       "      <td>NO</td>\n",
       "      <td>Fond</td>\n",
       "      <td>Urbaine</td>\n",
       "    </tr>\n",
       "    <tr>\n",
       "      <th>...</th>\n",
       "      <td>...</td>\n",
       "      <td>...</td>\n",
       "      <td>...</td>\n",
       "      <td>...</td>\n",
       "      <td>...</td>\n",
       "      <td>...</td>\n",
       "      <td>...</td>\n",
       "      <td>...</td>\n",
       "    </tr>\n",
       "    <tr>\n",
       "      <th>402</th>\n",
       "      <td>MONTPELLIER</td>\n",
       "      <td>2023-10-01 02:00:00</td>\n",
       "      <td>2023-11-01 00:59:00</td>\n",
       "      <td>17.9</td>\n",
       "      <td>5</td>\n",
       "      <td>PM10</td>\n",
       "      <td>Fond</td>\n",
       "      <td>Urbaine</td>\n",
       "    </tr>\n",
       "    <tr>\n",
       "      <th>435</th>\n",
       "      <td>MONTPELLIER</td>\n",
       "      <td>2023-10-01 02:00:00</td>\n",
       "      <td>2023-11-01 00:59:00</td>\n",
       "      <td>17.7</td>\n",
       "      <td>5</td>\n",
       "      <td>PM10</td>\n",
       "      <td>Trafic</td>\n",
       "      <td>Urbaine</td>\n",
       "    </tr>\n",
       "    <tr>\n",
       "      <th>739</th>\n",
       "      <td>MONTPELLIER</td>\n",
       "      <td>2023-10-01 02:00:00</td>\n",
       "      <td>2023-11-01 00:59:00</td>\n",
       "      <td>NaN</td>\n",
       "      <td>5</td>\n",
       "      <td>PM10</td>\n",
       "      <td>Trafic</td>\n",
       "      <td>Urbaine</td>\n",
       "    </tr>\n",
       "    <tr>\n",
       "      <th>587</th>\n",
       "      <td>MONTPELLIER</td>\n",
       "      <td>2023-10-01 02:00:00</td>\n",
       "      <td>2023-11-01 00:59:00</td>\n",
       "      <td>15.9</td>\n",
       "      <td>9</td>\n",
       "      <td>NOX</td>\n",
       "      <td>Fond</td>\n",
       "      <td>Urbaine</td>\n",
       "    </tr>\n",
       "    <tr>\n",
       "      <th>588</th>\n",
       "      <td>MONTPELLIER</td>\n",
       "      <td>2023-10-01 02:00:00</td>\n",
       "      <td>2023-11-01 00:59:00</td>\n",
       "      <td>23.1</td>\n",
       "      <td>9</td>\n",
       "      <td>NOX</td>\n",
       "      <td>Fond</td>\n",
       "      <td>Urbaine</td>\n",
       "    </tr>\n",
       "  </tbody>\n",
       "</table>\n",
       "<p>109 rows × 8 columns</p>\n",
       "</div>"
      ],
      "text/plain": [
       "            city               start                 end  values  poll_ue  \\\n",
       "932  MONTPELLIER 2022-08-01 02:00:00 2022-09-01 01:59:00     7.3     6001   \n",
       "579  MONTPELLIER 2022-08-01 02:00:00 2022-09-01 01:59:00     NaN        9   \n",
       "245  MONTPELLIER 2022-08-01 02:00:00 2022-09-01 01:59:00    17.2        5   \n",
       "580  MONTPELLIER 2022-09-01 02:00:00 2022-10-01 01:59:00     NaN        9   \n",
       "706  MONTPELLIER 2022-09-01 02:00:00 2022-10-01 01:59:00     2.2       38   \n",
       "..           ...                 ...                 ...     ...      ...   \n",
       "402  MONTPELLIER 2023-10-01 02:00:00 2023-11-01 00:59:00    17.9        5   \n",
       "435  MONTPELLIER 2023-10-01 02:00:00 2023-11-01 00:59:00    17.7        5   \n",
       "739  MONTPELLIER 2023-10-01 02:00:00 2023-11-01 00:59:00     NaN        5   \n",
       "587  MONTPELLIER 2023-10-01 02:00:00 2023-11-01 00:59:00    15.9        9   \n",
       "588  MONTPELLIER 2023-10-01 02:00:00 2023-11-01 00:59:00    23.1        9   \n",
       "\n",
       "    nom_poll influence typology  \n",
       "932    PM2.5      Fond  Urbaine  \n",
       "579      NOX    Trafic  Urbaine  \n",
       "245     PM10    Trafic  Urbaine  \n",
       "580      NOX    Trafic  Urbaine  \n",
       "706       NO      Fond  Urbaine  \n",
       "..       ...       ...      ...  \n",
       "402     PM10      Fond  Urbaine  \n",
       "435     PM10    Trafic  Urbaine  \n",
       "739     PM10    Trafic  Urbaine  \n",
       "587      NOX      Fond  Urbaine  \n",
       "588      NOX      Fond  Urbaine  \n",
       "\n",
       "[109 rows x 8 columns]"
      ]
     },
     "execution_count": 26,
     "metadata": {},
     "output_type": "execute_result"
    }
   ],
   "source": [
    "df[df['city']=='MONTPELLIER'].sort_values(by='start')"
   ]
  },
  {
   "cell_type": "code",
   "execution_count": 34,
   "metadata": {},
   "outputs": [
    {
     "data": {
      "text/plain": [
       "(14, 8)"
      ]
     },
     "execution_count": 34,
     "metadata": {},
     "output_type": "execute_result"
    }
   ],
   "source": [
    "df[(df['city']=='MONTPELLIER')&(df['nom_poll']=='PM2.5')].shape"
   ]
  },
  {
   "cell_type": "code",
   "execution_count": null,
   "metadata": {},
   "outputs": [],
   "source": []
  }
 ],
 "metadata": {
  "kernelspec": {
   "display_name": "pollenv",
   "language": "python",
   "name": "python3"
  },
  "language_info": {
   "codemirror_mode": {
    "name": "ipython",
    "version": 3
   },
   "file_extension": ".py",
   "mimetype": "text/x-python",
   "name": "python",
   "nbconvert_exporter": "python",
   "pygments_lexer": "ipython3",
   "version": "3.11.5"
  },
  "orig_nbformat": 4
 },
 "nbformat": 4,
 "nbformat_minor": 2
}
