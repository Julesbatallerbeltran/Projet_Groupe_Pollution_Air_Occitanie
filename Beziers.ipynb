{
  "cells": [
    {
      "cell_type": "raw",
      "metadata": {},
      "source": [
        "---\n",
        "title: \"Beziers\"\n",
        "execute:\n",
        "  echo: false\n",
        "format:\n",
        "  html:\n",
        "    theme: cosmo\n",
        "    toc: true\n",
        "    grid:\n",
        "      margin-width: 150px\n",
        "    fontcolor: pink\n",
        "    backgroundcolor: pink\n",
        "---"
      ],
      "id": "cb576df6"
    },
    {
      "cell_type": "markdown",
      "metadata": {},
      "source": [
        "* **Nombres d'habitants** : 78 683\n",
        "* **Densité** : 824 (*nombre d'habitants au $km^2$*)\n",
        "* **Département** : Herault (34) \n",
        "\n",
        "\n",
        "Données récentes sur la pollition NOX à Beziers"
      ],
      "id": "b2e22767"
    },
    {
      "cell_type": "code",
      "metadata": {},
      "source": [
        "from functions import visuals as viz\n",
        "from functions import dataprep as dp\n",
        "\n",
        "# Show NOX Pollution Values of the last 30 days\n",
        "df_j=dp.data_prep(time='tj')\n",
        "viz.visualize_df(df=df_j, city='BEZIERS', nom_poll=\"NOX\")"
      ],
      "id": "0420f1d1",
      "execution_count": null,
      "outputs": []
    },
    {
      "cell_type": "markdown",
      "metadata": {},
      "source": [
        "Données mensuelles sur la pollition NOX à Beziers"
      ],
      "id": "a462f8fc"
    },
    {
      "cell_type": "code",
      "metadata": {},
      "source": [
        "# Show NOX Pollution Values of the last months\n",
        "df_m=dp.data_prep(time='m')\n",
        "viz.visualize_df(df=df_m, city='BEZIERS', nom_poll=\"NOX\")"
      ],
      "id": "240ff4a2",
      "execution_count": null,
      "outputs": []
    },
    {
      "cell_type": "markdown",
      "metadata": {},
      "source": [
        "![](beziers.svg){width=600px}\n",
        "\n",
        "\n",
        "* **Nombres d'habitants** : 75 999\n",
        "* **Densité** : 824,1 (*nombre d'habitants au $km^2$*)\n",
        "* **Département** : Hérault(34)"
      ],
      "id": "89921403"
    }
  ],
  "metadata": {
    "kernelspec": {
      "name": "python3",
      "language": "python",
      "display_name": "Python 3 (ipykernel)"
    }
  },
  "nbformat": 4,
  "nbformat_minor": 5
}